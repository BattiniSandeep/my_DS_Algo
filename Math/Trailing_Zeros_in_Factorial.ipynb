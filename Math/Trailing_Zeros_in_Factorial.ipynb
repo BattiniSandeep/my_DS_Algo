{
  "nbformat": 4,
  "nbformat_minor": 0,
  "metadata": {
    "colab": {
      "name": "Trailing_Zeros_in_Factorial.ipynb",
      "provenance": [],
      "authorship_tag": "ABX9TyMr0/B6jcaAPgK3RkrlskA5"
    },
    "kernelspec": {
      "name": "python3",
      "display_name": "Python 3"
    },
    "language_info": {
      "name": "python"
    }
  },
  "cells": [
    {
      "cell_type": "code",
      "execution_count": 2,
      "metadata": {
        "colab": {
          "base_uri": "https://localhost:8080/"
        },
        "id": "fdx01Y4ZeGfv",
        "outputId": "4000f5f7-1a31-46a8-a717-a19c6de3fbc4"
      },
      "outputs": [
        {
          "output_type": "execute_result",
          "data": {
            "text/plain": [
              "62"
            ]
          },
          "metadata": {},
          "execution_count": 2
        }
      ],
      "source": [
        "# Function to find the trailing zeros in a Factorial of a Number\n",
        "def trailingZeroes(N):\n",
        "    \t#code here\n",
        "    \tres = 0\n",
        "    \ti = 5\n",
        "    \t\n",
        "    \twhile i <= N:\n",
        "    \t    res += N//i\n",
        "    \t    i *= 5\n",
        "    \treturn res\n",
        "\n",
        "# Test it with input\n",
        "trailingZeroes(251)\n",
        "\n",
        "# Output should be 62"
      ]
    }
  ]
}