{
  "nbformat": 4,
  "nbformat_minor": 0,
  "metadata": {
    "colab": {
      "name": "Prime_Or_Not.ipynb",
      "provenance": [],
      "authorship_tag": "ABX9TyOs5G0et4ptqBE2vHhgoE46",
      "include_colab_link": true
    },
    "kernelspec": {
      "name": "python3",
      "display_name": "Python 3"
    },
    "language_info": {
      "name": "python"
    }
  },
  "cells": [
    {
      "cell_type": "markdown",
      "metadata": {
        "id": "view-in-github",
        "colab_type": "text"
      },
      "source": [
        "<a href=\"https://colab.research.google.com/github/BattiniSandeep/my_DS_Algo/blob/main/Math/Prime_Or_Not.ipynb\" target=\"_parent\"><img src=\"https://colab.research.google.com/assets/colab-badge.svg\" alt=\"Open In Colab\"/></a>"
      ]
    },
    {
      "cell_type": "code",
      "execution_count": 3,
      "metadata": {
        "colab": {
          "base_uri": "https://localhost:8080/"
        },
        "id": "saarFfLnnn3O",
        "outputId": "fa27482f-a875-4e48-8117-b2da6c079f86"
      },
      "outputs": [
        {
          "output_type": "execute_result",
          "data": {
            "text/plain": [
              "True"
            ]
          },
          "metadata": {},
          "execution_count": 3
        }
      ],
      "source": [
        "# Program to find whether a number is prime Number or not\n",
        "\n",
        "def isPrime(n):\n",
        "  if n == 1:\n",
        "    return False\n",
        "  if n == 2 or n == 3:\n",
        "    return False\n",
        "\n",
        "  if n %2 == 0 or n % 3 == 0:\n",
        "    return False\n",
        "\n",
        "  i = 5\n",
        "# A prime number can be represented as 6n +1 and 6n -1\n",
        "  \n",
        "  while i *i <= n:\n",
        "    if n % i == 0 or n % (i+2) == 0:\n",
        "      return False\n",
        "    i += 6\n",
        "\n",
        "  return True\n",
        "\n",
        "\n",
        "# Testing the Function\n",
        "\n",
        "isPrime(251)\n",
        "\n",
        "# Expected answer is True"
      ]
    }
  ]
}