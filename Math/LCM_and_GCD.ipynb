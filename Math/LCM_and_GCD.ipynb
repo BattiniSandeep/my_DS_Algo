{
  "nbformat": 4,
  "nbformat_minor": 0,
  "metadata": {
    "colab": {
      "name": "LCM_and_GCD.ipynb",
      "provenance": [],
      "authorship_tag": "ABX9TyNqvMVvpoA8Om+iJl7QCL1r",
      "include_colab_link": true
    },
    "kernelspec": {
      "name": "python3",
      "display_name": "Python 3"
    },
    "language_info": {
      "name": "python"
    }
  },
  "cells": [
    {
      "cell_type": "markdown",
      "metadata": {
        "id": "view-in-github",
        "colab_type": "text"
      },
      "source": [
        "<a href=\"https://colab.research.google.com/github/BattiniSandeep/my_DS_Algo/blob/main/Math/LCM_and_GCD.ipynb\" target=\"_parent\"><img src=\"https://colab.research.google.com/assets/colab-badge.svg\" alt=\"Open In Colab\"/></a>"
      ]
    },
    {
      "cell_type": "code",
      "execution_count": 4,
      "metadata": {
        "colab": {
          "base_uri": "https://localhost:8080/"
        },
        "id": "fdx01Y4ZeGfv",
        "outputId": "a6f85f28-fef2-42e8-8f10-29691ae7bec6"
      },
      "outputs": [
        {
          "output_type": "execute_result",
          "data": {
            "text/plain": [
              "[56, 2]"
            ]
          },
          "metadata": {},
          "execution_count": 4
        }
      ],
      "source": [
        "# Function to find the LCM and GCD of two numbers\n",
        "def lcmAndGcd(A , B):\n",
        "      total = A *B\n",
        "      while A != B:\n",
        "          if A > B:\n",
        "              A -= B\n",
        "          else:\n",
        "              B -= A\n",
        "      return [total // A, A]\n",
        "\n",
        "# Test it with input\n",
        "\n",
        "lcmAndGcd(14, 8)\n",
        "\n",
        "# Output should be [56, 2]\n",
        "# Where 56 is the LCM and 2 is the GCD"
      ]
    }
  ]
}