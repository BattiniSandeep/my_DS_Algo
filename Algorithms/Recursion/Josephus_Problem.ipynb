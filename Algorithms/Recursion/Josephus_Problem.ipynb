{
  "nbformat": 4,
  "nbformat_minor": 0,
  "metadata": {
    "colab": {
      "name": "Josephus_Problem.ipynb",
      "provenance": [],
      "collapsed_sections": [],
      "authorship_tag": "ABX9TyPeo/6yZ1M7Bx0eyvWvSadt",
      "include_colab_link": true
    },
    "kernelspec": {
      "name": "python3",
      "display_name": "Python 3"
    },
    "language_info": {
      "name": "python"
    }
  },
  "cells": [
    {
      "cell_type": "markdown",
      "metadata": {
        "id": "view-in-github",
        "colab_type": "text"
      },
      "source": [
        "<a href=\"https://colab.research.google.com/github/BattiniSandeep/my_DS_Algo/blob/main/Algorithms/Recursion/Josephus_Problem.ipynb\" target=\"_parent\"><img src=\"https://colab.research.google.com/assets/colab-badge.svg\" alt=\"Open In Colab\"/></a>"
      ]
    },
    {
      "cell_type": "markdown",
      "source": [
        "# **Function for Josephus Problem**"
      ],
      "metadata": {
        "id": "McHAmD55N5rr"
      }
    },
    {
      "cell_type": "code",
      "source": [
        "def jos(n, k):\n",
        "  if n == 1:\n",
        "    return 0\n",
        "  return (jos(n-1, k) + k) % n"
      ],
      "metadata": {
        "id": "bGjInPKrOC09"
      },
      "execution_count": 7,
      "outputs": []
    },
    {
      "cell_type": "markdown",
      "source": [
        "# **Testing the function**"
      ],
      "metadata": {
        "id": "jhDXzMnyOq9t"
      }
    },
    {
      "cell_type": "code",
      "source": [
        "jos(5,3)"
      ],
      "metadata": {
        "colab": {
          "base_uri": "https://localhost:8080/"
        },
        "id": "hL6UWp5WOuYv",
        "outputId": "2d55fe92-9ecd-43cc-a7d9-30d137d64d09"
      },
      "execution_count": 8,
      "outputs": [
        {
          "output_type": "execute_result",
          "data": {
            "text/plain": [
              "3"
            ]
          },
          "metadata": {},
          "execution_count": 8
        }
      ]
    }
  ]
}