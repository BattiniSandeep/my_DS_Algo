{
  "nbformat": 4,
  "nbformat_minor": 0,
  "metadata": {
    "colab": {
      "name": "Generate_Subsets.ipynb",
      "provenance": [],
      "collapsed_sections": [],
      "authorship_tag": "ABX9TyOAVRA+1UOJYk4A9GBkKxjX",
      "include_colab_link": true
    },
    "kernelspec": {
      "name": "python3",
      "display_name": "Python 3"
    },
    "language_info": {
      "name": "python"
    }
  },
  "cells": [
    {
      "cell_type": "markdown",
      "metadata": {
        "id": "view-in-github",
        "colab_type": "text"
      },
      "source": [
        "<a href=\"https://colab.research.google.com/github/BattiniSandeep/my_DS_Algo/blob/main/Algorithms/Recursion/Generate_Subsets.ipynb\" target=\"_parent\"><img src=\"https://colab.research.google.com/assets/colab-badge.svg\" alt=\"Open In Colab\"/></a>"
      ]
    },
    {
      "cell_type": "markdown",
      "source": [
        "# Generate Subsets of a String using **Recursion**"
      ],
      "metadata": {
        "id": "McHAmD55N5rr"
      }
    },
    {
      "cell_type": "code",
      "source": [
        "def generate_subsets(str, curr, i):\n",
        "  if i == len(str):\n",
        "    print(curr)\n",
        "    return\n",
        "  generate_subsets(str, curr, i+1)\n",
        "  generate_subsets(str, curr + str[i], i+1)"
      ],
      "metadata": {
        "id": "bGjInPKrOC09"
      },
      "execution_count": 2,
      "outputs": []
    },
    {
      "cell_type": "markdown",
      "source": [
        "# **Testing the function**"
      ],
      "metadata": {
        "id": "jhDXzMnyOq9t"
      }
    },
    {
      "cell_type": "code",
      "source": [
        "generate_subsets('ABC', '', 0)"
      ],
      "metadata": {
        "colab": {
          "base_uri": "https://localhost:8080/"
        },
        "id": "hL6UWp5WOuYv",
        "outputId": "42522a86-f284-4bec-dd47-5800d76d8e03"
      },
      "execution_count": 8,
      "outputs": [
        {
          "output_type": "stream",
          "name": "stdout",
          "text": [
            "\n",
            "C\n",
            "B\n",
            "BC\n",
            "A\n",
            "AC\n",
            "AB\n",
            "ABC\n"
          ]
        }
      ]
    }
  ]
}