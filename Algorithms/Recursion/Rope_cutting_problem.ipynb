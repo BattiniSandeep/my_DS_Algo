{
  "nbformat": 4,
  "nbformat_minor": 0,
  "metadata": {
    "colab": {
      "name": "Rope_cutting_problem.ipynb",
      "provenance": [],
      "authorship_tag": "ABX9TyOma5yzuCRIaSzwTsGJpj58",
      "include_colab_link": true
    },
    "kernelspec": {
      "name": "python3",
      "display_name": "Python 3"
    },
    "language_info": {
      "name": "python"
    }
  },
  "cells": [
    {
      "cell_type": "markdown",
      "metadata": {
        "id": "view-in-github",
        "colab_type": "text"
      },
      "source": [
        "<a href=\"https://colab.research.google.com/github/BattiniSandeep/my_DS_Algo/blob/main/Algorithms/Recursion/Rope_cutting_problem.ipynb\" target=\"_parent\"><img src=\"https://colab.research.google.com/assets/colab-badge.svg\" alt=\"Open In Colab\"/></a>"
      ]
    },
    {
      "cell_type": "markdown",
      "source": [
        "# **Rope Cutting Problem**"
      ],
      "metadata": {
        "id": "-0obdOOPCCwV"
      }
    },
    {
      "cell_type": "code",
      "source": [
        "def rope_cut(n, a, b, c):\n",
        "  if n == 0:\n",
        "    return 0\n",
        "\n",
        "  if n < 0:\n",
        "    return -1\n",
        "\n",
        "  res = max(rope_cut(n-a, a, b, c), rope_cut(n-b,a,b, c), rope_cut(n-c, a, b, c))\n",
        "  if res < 0:\n",
        "    return -1          \n",
        "  return res +1"
      ],
      "metadata": {
        "id": "EKsGK4FNCZiT"
      },
      "execution_count": 25,
      "outputs": []
    },
    {
      "cell_type": "markdown",
      "source": [
        "# **Testing Function**\n"
      ],
      "metadata": {
        "id": "kV770Q6ACqw4"
      }
    },
    {
      "cell_type": "code",
      "source": [
        "print(rope_cut(9, 2, 2, 2))"
      ],
      "metadata": {
        "colab": {
          "base_uri": "https://localhost:8080/"
        },
        "id": "C_IIgwbqC5jA",
        "outputId": "b97c6555-e256-485b-bcdc-cb4f51a44abb"
      },
      "execution_count": 26,
      "outputs": [
        {
          "output_type": "stream",
          "name": "stdout",
          "text": [
            "-1\n"
          ]
        }
      ]
    }
  ]
}