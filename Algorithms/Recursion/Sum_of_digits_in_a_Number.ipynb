{
  "nbformat": 4,
  "nbformat_minor": 0,
  "metadata": {
    "colab": {
      "name": "Untitled2.ipynb",
      "provenance": [],
      "authorship_tag": "ABX9TyP7b/4NtEFvqRc2zpcLfFFY",
      "include_colab_link": true
    },
    "kernelspec": {
      "name": "python3",
      "display_name": "Python 3"
    },
    "language_info": {
      "name": "python"
    }
  },
  "cells": [
    {
      "cell_type": "markdown",
      "metadata": {
        "id": "view-in-github",
        "colab_type": "text"
      },
      "source": [
        "<a href=\"https://colab.research.google.com/github/BattiniSandeep/my_DS_Algo/blob/main/Algorithms/Recursion/Sum_of_digits_in_a_Number.ipynb\" target=\"_parent\"><img src=\"https://colab.research.google.com/assets/colab-badge.svg\" alt=\"Open In Colab\"/></a>"
      ]
    },
    {
      "cell_type": "markdown",
      "source": [
        "# ***Writing Function to calculate Sum of digits of a Number using Recursion***"
      ],
      "metadata": {
        "id": "-0obdOOPCCwV"
      }
    },
    {
      "cell_type": "code",
      "source": [
        "def sum_of_digits(n):\n",
        "  if n < 10:\n",
        "    return n\n",
        "  return sum_of_digits(n//10) + n% 10"
      ],
      "metadata": {
        "id": "EKsGK4FNCZiT"
      },
      "execution_count": 4,
      "outputs": []
    },
    {
      "cell_type": "markdown",
      "source": [
        "# **Testing Function**\n"
      ],
      "metadata": {
        "id": "kV770Q6ACqw4"
      }
    },
    {
      "cell_type": "code",
      "source": [
        "print(sum_of_digits(123456789))"
      ],
      "metadata": {
        "colab": {
          "base_uri": "https://localhost:8080/"
        },
        "id": "C_IIgwbqC5jA",
        "outputId": "0abe4cd9-8d68-475c-bea8-31d8dbd80e9f"
      },
      "execution_count": 8,
      "outputs": [
        {
          "output_type": "stream",
          "name": "stdout",
          "text": [
            "45\n"
          ]
        }
      ]
    }
  ]
}