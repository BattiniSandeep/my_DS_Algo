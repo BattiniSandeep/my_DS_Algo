{
  "nbformat": 4,
  "nbformat_minor": 0,
  "metadata": {
    "colab": {
      "name": "Index_of_First_Occurrence.ipynb",
      "provenance": [],
      "authorship_tag": "ABX9TyM0edSCH8zb7sVV/tlmUe+X",
      "include_colab_link": true
    },
    "kernelspec": {
      "name": "python3",
      "display_name": "Python 3"
    },
    "language_info": {
      "name": "python"
    }
  },
  "cells": [
    {
      "cell_type": "markdown",
      "metadata": {
        "id": "view-in-github",
        "colab_type": "text"
      },
      "source": [
        "<a href=\"https://colab.research.google.com/github/BattiniSandeep/my_DS_Algo/blob/main/Algorithms/Searching/Index_of_First_Occurrence.ipynb\" target=\"_parent\"><img src=\"https://colab.research.google.com/assets/colab-badge.svg\" alt=\"Open In Colab\"/></a>"
      ]
    },
    {
      "cell_type": "markdown",
      "source": [
        "# Function to find the Index of First Occurrence of given value"
      ],
      "metadata": {
        "id": "dnaGSmx_Ulrj"
      }
    },
    {
      "cell_type": "code",
      "execution_count": 7,
      "metadata": {
        "id": "rniKAWAgOKF6"
      },
      "outputs": [],
      "source": [
        "def Index(arr, k):\n",
        "  low = 0\n",
        "  high = len(arr) -1\n",
        "  while low <= high:\n",
        "    mid = low+ high // 2\n",
        "    if arr[mid] == k:\n",
        "      while arr[mid] == arr[mid-1] and mid != 0:\n",
        "        mid -= 1\n",
        "      return mid\n",
        "    elif arr[mid] < k:\n",
        "      low = mid +1\n",
        "    elif arr[mid] > k:\n",
        "      high = mid -1\n",
        "  return -1"
      ]
    },
    {
      "cell_type": "code",
      "source": [
        "arr = [2, 5, 5, 5]\n",
        "Index(arr, 5)"
      ],
      "metadata": {
        "colab": {
          "base_uri": "https://localhost:8080/"
        },
        "id": "o_WvtEhOPuIo",
        "outputId": "9b82745e-de22-4140-96f1-d89803f7cb7a"
      },
      "execution_count": 8,
      "outputs": [
        {
          "output_type": "execute_result",
          "data": {
            "text/plain": [
              "1"
            ]
          },
          "metadata": {},
          "execution_count": 8
        }
      ]
    }
  ]
}