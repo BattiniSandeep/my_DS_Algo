{
  "nbformat": 4,
  "nbformat_minor": 0,
  "metadata": {
    "colab": {
      "name": "Binary_Search_Iterative.ipynb",
      "provenance": [],
      "collapsed_sections": [],
      "authorship_tag": "ABX9TyM17JmrPozi1rn9zOrdq6fg",
      "include_colab_link": true
    },
    "kernelspec": {
      "name": "python3",
      "display_name": "Python 3"
    },
    "language_info": {
      "name": "python"
    }
  },
  "cells": [
    {
      "cell_type": "markdown",
      "metadata": {
        "id": "view-in-github",
        "colab_type": "text"
      },
      "source": [
        "<a href=\"https://colab.research.google.com/github/BattiniSandeep/my_DS_Algo/blob/main/Algorithms/Searching/Binary_Search_Iterative.ipynb\" target=\"_parent\"><img src=\"https://colab.research.google.com/assets/colab-badge.svg\" alt=\"Open In Colab\"/></a>"
      ]
    },
    {
      "cell_type": "markdown",
      "source": [
        "# **Iterative Function for Binary Search**"
      ],
      "metadata": {
        "id": "McHAmD55N5rr"
      }
    },
    {
      "cell_type": "code",
      "source": [
        "def Binary_Search(arr, k):\n",
        "  high = len(arr) -1\n",
        "  low = 0\n",
        "  while high >= low:\n",
        "    mid = high + low // 2 \n",
        "    if arr[mid] == k:\n",
        "      return mid\n",
        "    elif arr[mid] > k:\n",
        "      high = mid -1\n",
        "    elif arr[mid] < k:\n",
        "      low = mid +1\n",
        "  return -1\n"
      ],
      "metadata": {
        "id": "bGjInPKrOC09"
      },
      "execution_count": 10,
      "outputs": []
    },
    {
      "cell_type": "markdown",
      "source": [
        "# **Testing the function**"
      ],
      "metadata": {
        "id": "jhDXzMnyOq9t"
      }
    },
    {
      "cell_type": "code",
      "source": [
        "arr = [10, 10]\n",
        "Binary_Search(arr, 1)\n"
      ],
      "metadata": {
        "colab": {
          "base_uri": "https://localhost:8080/"
        },
        "id": "hL6UWp5WOuYv",
        "outputId": "bba4b35c-e6fb-4cc7-cbd3-91a62954dcf9"
      },
      "execution_count": 11,
      "outputs": [
        {
          "output_type": "execute_result",
          "data": {
            "text/plain": [
              "-1"
            ]
          },
          "metadata": {},
          "execution_count": 11
        }
      ]
    },
    {
      "cell_type": "code",
      "source": [
        ""
      ],
      "metadata": {
        "id": "hUFqOJvk446s"
      },
      "execution_count": null,
      "outputs": []
    }
  ]
}