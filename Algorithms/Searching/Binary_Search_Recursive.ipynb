{
  "nbformat": 4,
  "nbformat_minor": 0,
  "metadata": {
    "colab": {
      "name": "Binary_Search_Recursive.ipynb",
      "provenance": [],
      "collapsed_sections": [],
      "authorship_tag": "ABX9TyNtHOqZ9pR0LDz3Dtn5YK9B",
      "include_colab_link": true
    },
    "kernelspec": {
      "name": "python3",
      "display_name": "Python 3"
    },
    "language_info": {
      "name": "python"
    }
  },
  "cells": [
    {
      "cell_type": "markdown",
      "metadata": {
        "id": "view-in-github",
        "colab_type": "text"
      },
      "source": [
        "<a href=\"https://colab.research.google.com/github/BattiniSandeep/my_DS_Algo/blob/main/Algorithms/Searching/Binary_Search_Recursive.ipynb\" target=\"_parent\"><img src=\"https://colab.research.google.com/assets/colab-badge.svg\" alt=\"Open In Colab\"/></a>"
      ]
    },
    {
      "cell_type": "markdown",
      "source": [
        "# **Recursive Function for Binary Search**"
      ],
      "metadata": {
        "id": "McHAmD55N5rr"
      }
    },
    {
      "cell_type": "code",
      "source": [
        "def Binary_Search(arr, k, low, high):\n",
        "  if low > high:\n",
        "    return -1\n",
        "  mid = high + low // 2 \n",
        "  if arr[mid] == k:\n",
        "    return mid\n",
        "  elif arr[mid] > k:\n",
        "    return Binary_Search(arr, k, low, mid - 1)\n",
        "  else:\n",
        "    return Binary_Search(arr, k, mid+1, high)"
      ],
      "metadata": {
        "id": "bGjInPKrOC09"
      },
      "execution_count": 24,
      "outputs": []
    },
    {
      "cell_type": "markdown",
      "source": [
        "# **Testing the function**"
      ],
      "metadata": {
        "id": "jhDXzMnyOq9t"
      }
    },
    {
      "cell_type": "code",
      "source": [
        "arr = [10,20,30,40,50,60]\n",
        "Binary_Search(arr, 60, 0, 5)\n"
      ],
      "metadata": {
        "colab": {
          "base_uri": "https://localhost:8080/"
        },
        "id": "hL6UWp5WOuYv",
        "outputId": "1bf43aaa-7c2e-4eed-e470-4c3da5859d64"
      },
      "execution_count": 26,
      "outputs": [
        {
          "output_type": "execute_result",
          "data": {
            "text/plain": [
              "5"
            ]
          },
          "metadata": {},
          "execution_count": 26
        }
      ]
    }
  ]
}